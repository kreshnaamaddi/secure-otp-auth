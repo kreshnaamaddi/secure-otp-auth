{
 "cells": [
  {
   "cell_type": "code",
   "execution_count": 1,
   "id": "4fcfeb79-24eb-46c9-a84e-0a28e2e516fb",
   "metadata": {},
   "outputs": [
    {
     "name": "stdin",
     "output_type": "stream",
     "text": [
      "Enter your email address:  kreshnaamaddi@gmail.com\n"
     ]
    },
    {
     "name": "stdout",
     "output_type": "stream",
     "text": [
      "OTP sent to kreshnaamaddi@gmail.com\n"
     ]
    },
    {
     "name": "stdin",
     "output_type": "stream",
     "text": [
      "Enter the OTP (You have 3 attempts left):  326890\n"
     ]
    },
    {
     "name": "stdout",
     "output_type": "stream",
     "text": [
      "OTP validated successfully! Access granted.\n"
     ]
    }
   ],
   "source": [
    "import smtplib\n",
    "from email.message import EmailMessage\n",
    "import random\n",
    "import time\n",
    "\n",
    "# Generate 6-digit OTP\n",
    "def generate_otp():\n",
    "    otp = ''.join([str(random.randint(0, 9)) for _ in range(6)])\n",
    "    return otp\n",
    "\n",
    "# Send OTP to the user's email address\n",
    "def send_otp(email, otp):\n",
    "    msg = EmailMessage()\n",
    "    msg.set_content(f'Your OTP code is {otp}')\n",
    "    msg['Subject'] = 'Your OTP Code'\n",
    "    msg['From'] = 'kreshnaaagarwal@gmail.com' \n",
    "    msg['To'] = email\n",
    "\n",
    "    try:\n",
    "        with smtplib.SMTP('smtp.gmail.com', 587) as server:\n",
    "            server.starttls()\n",
    "            server.login('kreshnaaagarwal@gmail.com', 'rkna xrzj lodl gzws')  \n",
    "            server.send_message(msg)\n",
    "            print(f\"OTP sent to {email}\")\n",
    "    except Exception as e:\n",
    "        print(f\"Failed to send OTP: {e}\")\n",
    "\n",
    "# OTP Validation\n",
    "def validate_otp(generated_otp):\n",
    "    attempts = 3\n",
    "    while attempts > 0:\n",
    "        entered_otp = input(f\"Enter the OTP (You have {attempts} attempts left): \")\n",
    "        if entered_otp == generated_otp:\n",
    "            print(\"OTP validated successfully! Access granted.\")\n",
    "            return True\n",
    "        else:\n",
    "            attempts -= 1\n",
    "            print(f\"Incorrect OTP. {attempts} attempts left.\")\n",
    "        if attempts == 0:\n",
    "            print(\"You have exhausted all attempts. Access denied.\")\n",
    "            return False\n",
    "\n",
    "# Main function to orchestrate OTP generation and validation\n",
    "def otp_verification_system():\n",
    "    email = input(\"Enter your email address: \")\n",
    "    otp = generate_otp()\n",
    "    send_otp(email, otp)\n",
    "    \n",
    "    time.sleep(2) \n",
    "\n",
    "    validate_otp(otp)\n",
    "\n",
    "# Run the OTP Verification System\n",
    "if __name__ == \"__main__\":\n",
    "    otp_verification_system()\n"
   ]
  },
  {
   "cell_type": "code",
   "execution_count": null,
   "id": "cae1cb19-fe22-4193-b3e9-89452bf55e7c",
   "metadata": {},
   "outputs": [],
   "source": []
  }
 ],
 "metadata": {
  "kernelspec": {
   "display_name": "Python 3 (ipykernel)",
   "language": "python",
   "name": "python3"
  },
  "language_info": {
   "codemirror_mode": {
    "name": "ipython",
    "version": 3
   },
   "file_extension": ".py",
   "mimetype": "text/x-python",
   "name": "python",
   "nbconvert_exporter": "python",
   "pygments_lexer": "ipython3",
   "version": "3.12.4"
  }
 },
 "nbformat": 4,
 "nbformat_minor": 5
}
